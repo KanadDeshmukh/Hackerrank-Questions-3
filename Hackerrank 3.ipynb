{
 "cells": [
  {
   "cell_type": "markdown",
   "id": "3ccee488",
   "metadata": {},
   "source": [
    "### Hackerrank Questions 3"
   ]
  },
  {
   "cell_type": "markdown",
   "id": "37d7632a",
   "metadata": {},
   "source": [
    "Q1. https://www.hackerrank.com/challenges/itertools-combinations/problem"
   ]
  },
  {
   "cell_type": "code",
   "execution_count": 1,
   "id": "aeec3807",
   "metadata": {},
   "outputs": [
    {
     "name": "stdout",
     "output_type": "stream",
     "text": [
      "HACK 2\n",
      "A\n",
      "C\n",
      "H\n",
      "K\n",
      "AC\n",
      "AH\n",
      "AK\n",
      "CH\n",
      "CK\n",
      "HK\n"
     ]
    }
   ],
   "source": [
    "from itertools import combinations\n",
    "n,m=input().split()\n",
    "L=int(m)\n",
    "for i in range(1,L+1):\n",
    "    K=list(combinations(sorted(n),i))\n",
    "    for i in K:\n",
    "        print(''.join(i))"
   ]
  },
  {
   "cell_type": "markdown",
   "id": "bd853e61",
   "metadata": {},
   "source": [
    "Q2. https://www.hackerrank.com/challenges/itertools-product/problem"
   ]
  },
  {
   "cell_type": "code",
   "execution_count": 3,
   "id": "d522e03e",
   "metadata": {},
   "outputs": [
    {
     "name": "stdout",
     "output_type": "stream",
     "text": [
      "1 2\n",
      "3 4\n",
      "(1, 3) (1, 4) (2, 3) (2, 4)\n"
     ]
    }
   ],
   "source": [
    "from itertools import product\n",
    "print(*list(product(list(map(int,input().split())), list(map(int,input().split())))))"
   ]
  },
  {
   "cell_type": "markdown",
   "id": "d5d2e7be",
   "metadata": {},
   "source": [
    "Q3. https://www.hackerrank.com/challenges/itertools-permutations/problem"
   ]
  },
  {
   "cell_type": "code",
   "execution_count": 4,
   "id": "4e5c6061",
   "metadata": {},
   "outputs": [
    {
     "name": "stdout",
     "output_type": "stream",
     "text": [
      "HACK 2\n",
      "AC\n",
      "AH\n",
      "AK\n",
      "CA\n",
      "CH\n",
      "CK\n",
      "HA\n",
      "HC\n",
      "HK\n",
      "KA\n",
      "KC\n",
      "KH\n"
     ]
    }
   ],
   "source": [
    "from itertools import permutations\n",
    "\n",
    "word, key = input().split(\" \")    # Input of a word and a key\n",
    "event = list(permutations(word, int(key)))\n",
    "event.sort()\n",
    "\n",
    "for i in event:\n",
    "    print(\"\".join(i))"
   ]
  },
  {
   "cell_type": "code",
   "execution_count": null,
   "id": "6501a0a8",
   "metadata": {},
   "outputs": [],
   "source": []
  }
 ],
 "metadata": {
  "kernelspec": {
   "display_name": "Python 3 (ipykernel)",
   "language": "python",
   "name": "python3"
  },
  "language_info": {
   "codemirror_mode": {
    "name": "ipython",
    "version": 3
   },
   "file_extension": ".py",
   "mimetype": "text/x-python",
   "name": "python",
   "nbconvert_exporter": "python",
   "pygments_lexer": "ipython3",
   "version": "3.9.6"
  }
 },
 "nbformat": 4,
 "nbformat_minor": 5
}
